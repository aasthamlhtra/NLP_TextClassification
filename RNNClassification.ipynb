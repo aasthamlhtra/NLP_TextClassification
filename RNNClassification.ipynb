{
  "nbformat": 4,
  "nbformat_minor": 0,
  "metadata": {
    "colab": {
      "provenance": [],
      "gpuType": "T4"
    },
    "kernelspec": {
      "name": "python3",
      "display_name": "Python 3"
    },
    "language_info": {
      "name": "python"
    },
    "accelerator": "GPU"
  },
  "cells": [
    {
      "cell_type": "code",
      "execution_count": null,
      "metadata": {
        "colab": {
          "base_uri": "https://localhost:8080/"
        },
        "id": "uJeRcRkJ6IJQ",
        "outputId": "043a4f98-ff62-4480-eaf3-4bb04258aeec"
      },
      "outputs": [
        {
          "output_type": "stream",
          "name": "stdout",
          "text": [
            "Using device = cpu\n"
          ]
        }
      ],
      "source": [
        "import torch\n",
        "\n",
        "# Check if CUDA is available\n",
        "device = torch.device('cpu')\n",
        "if torch.cuda.is_available():\n",
        "    device = torch.device('cuda')\n",
        "\n",
        "torch.set_default_device(device)\n",
        "print(f\"Using device = {torch.get_default_device()}\")"
      ]
    },
    {
      "cell_type": "code",
      "source": [
        "import string\n",
        "import unicodedata\n",
        "\n",
        "allowed_characters = string.ascii_letters + \" .,;'\" + \"_\"\n",
        "n_letters = len(allowed_characters)\n",
        "\n",
        "# Turn a Unicode string to plain ASCII, thanks to https://stackoverflow.com/a/518232/2809427\n",
        "def unicodeToAscii(s):\n",
        "    return ''.join(\n",
        "        c for c in unicodedata.normalize('NFD', s)\n",
        "        if unicodedata.category(c) != 'Mn'\n",
        "        and c in allowed_characters\n",
        "    )"
      ],
      "metadata": {
        "id": "VPvFLel26WGx"
      },
      "execution_count": null,
      "outputs": []
    },
    {
      "cell_type": "code",
      "source": [
        "# Find letter index from all_letters\n",
        "def letterToIndex(letter):\n",
        "    if letter not in allowed_characters:\n",
        "        return allowed_characters.find(\"_\")\n",
        "    else:\n",
        "        return allowed_characters.find(letter)\n",
        "\n",
        "# Turn a line into a <line_length x 1 x n_letters>,\n",
        "# or an array of one-hot letter vectors\n",
        "def lineToTensor(line):\n",
        "    tensor = torch.zeros(len(line), 1, n_letters)\n",
        "    for li, letter in enumerate(line):\n",
        "        tensor[li][0][letterToIndex(letter)] = 1\n",
        "    return tensor"
      ],
      "metadata": {
        "id": "awdtejEw6YkM"
      },
      "execution_count": null,
      "outputs": []
    },
    {
      "cell_type": "code",
      "source": [
        "from io import open\n",
        "import glob\n",
        "import os\n",
        "import time\n",
        "import torch\n",
        "from torch.utils.data import Dataset\n",
        "\n",
        "class NamesDataset(Dataset):\n",
        "\n",
        "  def __init__(self, data_dir):\n",
        "    self.data_dir = data_dir\n",
        "    self.load_time = time.localtime\n",
        "    labels_set =  set()\n",
        "\n",
        "    self.data = []\n",
        "    self.data_tensors = []\n",
        "    self.labels = []\n",
        "    self.labels_tensors = []\n",
        "\n",
        "    text_files = glob.glob(os.path.join(data_dir, \"*.txt\"))\n",
        "    for filename in text_files:\n",
        "      label = os.path.splitext(os.path.basename(filename))[0]\n",
        "      labels_set.add(label)\n",
        "      lines = open(filename, encoding='utf-8').read().strip().split('\\n')\n",
        "      for name in lines:\n",
        "        self.data.append(name)\n",
        "        self.data_tensors.append(lineToTensor(name))\n",
        "        self.labels.append(label)\n",
        "\n",
        "    self.labels_unique = list(labels_set)\n",
        "    for idx in range(len(self.labels)):\n",
        "        temp_tensor = torch.tensor([self.labels_unique.index(self.labels[idx])], dtype = torch.long)\n",
        "        self.labels_tensors.append(temp_tensor)\n",
        "\n",
        "  def __len__(self):\n",
        "    return len(self.data)\n",
        "\n",
        "  def __getitem__(self, idx):\n",
        "    data_item = self.data[idx]\n",
        "    data_label = self.labels[idx]\n",
        "    data_tensor = self.data_tensors[idx]\n",
        "    label_tensor = self.labels_tensors[idx]\n",
        "\n",
        "    return label_tensor, data_tensor, data_label, data_item\n",
        "\n"
      ],
      "metadata": {
        "id": "lk71ZK5W6bNN"
      },
      "execution_count": null,
      "outputs": []
    },
    {
      "cell_type": "code",
      "source": [
        "from zipfile import ZipFile\n",
        "file_name = \"/content/data.zip\"\n",
        "\n",
        "with ZipFile(file_name, 'r') as zip:\n",
        "  zip.extractall()\n",
        "  print('Done')"
      ],
      "metadata": {
        "colab": {
          "base_uri": "https://localhost:8080/"
        },
        "id": "noJZ2RY6EHQL",
        "outputId": "8fbff118-f00c-418e-e84b-06c1bb96d60c"
      },
      "execution_count": null,
      "outputs": [
        {
          "output_type": "stream",
          "name": "stdout",
          "text": [
            "Done\n"
          ]
        }
      ]
    },
    {
      "cell_type": "code",
      "source": [
        "alldata = NamesDataset(\"data/names\")\n",
        "print(f\"loaded {len(alldata)} items of data\")\n",
        "print(f\"example = {alldata[0]}\")"
      ],
      "metadata": {
        "colab": {
          "base_uri": "https://localhost:8080/"
        },
        "id": "y2cnWWUOEdg7",
        "outputId": "10ab0638-6adc-4adb-9d0d-48c694583dbe"
      },
      "execution_count": null,
      "outputs": [
        {
          "output_type": "stream",
          "name": "stdout",
          "text": [
            "loaded 20074 items of data\n",
            "example = (tensor([5]), tensor([[[0., 0., 0., 0., 0., 0., 0., 0., 0., 0., 0., 0., 0., 0., 0., 0., 0.,\n",
            "          0., 0., 0., 0., 0., 0., 0., 0., 0., 1., 0., 0., 0., 0., 0., 0., 0.,\n",
            "          0., 0., 0., 0., 0., 0., 0., 0., 0., 0., 0., 0., 0., 0., 0., 0., 0.,\n",
            "          0., 0., 0., 0., 0., 0., 0.]],\n",
            "\n",
            "        [[0., 1., 0., 0., 0., 0., 0., 0., 0., 0., 0., 0., 0., 0., 0., 0., 0.,\n",
            "          0., 0., 0., 0., 0., 0., 0., 0., 0., 0., 0., 0., 0., 0., 0., 0., 0.,\n",
            "          0., 0., 0., 0., 0., 0., 0., 0., 0., 0., 0., 0., 0., 0., 0., 0., 0.,\n",
            "          0., 0., 0., 0., 0., 0., 0.]],\n",
            "\n",
            "        [[0., 0., 0., 0., 0., 0., 0., 0., 0., 0., 0., 1., 0., 0., 0., 0., 0.,\n",
            "          0., 0., 0., 0., 0., 0., 0., 0., 0., 0., 0., 0., 0., 0., 0., 0., 0.,\n",
            "          0., 0., 0., 0., 0., 0., 0., 0., 0., 0., 0., 0., 0., 0., 0., 0., 0.,\n",
            "          0., 0., 0., 0., 0., 0., 0.]]]), 'Czech', 'Abl')\n"
          ]
        }
      ]
    },
    {
      "cell_type": "code",
      "source": [
        "train_set, test_set = torch.utils.data.random_split(alldata, [.85, .15], generator = torch.Generator(device=device).manual_seed(2024))\n",
        "print(len(train_set))\n",
        "print(len(test_set))"
      ],
      "metadata": {
        "colab": {
          "base_uri": "https://localhost:8080/"
        },
        "id": "3Sfpb_BrEkm6",
        "outputId": "ca9fb6b5-afc7-4a13-a909-d0dc61dfdf17"
      },
      "execution_count": null,
      "outputs": [
        {
          "output_type": "stream",
          "name": "stdout",
          "text": [
            "17063\n",
            "3011\n"
          ]
        }
      ]
    },
    {
      "cell_type": "code",
      "source": [
        "import torch.nn as nn\n",
        "import torch.nn.functional as F\n",
        "\n",
        "class CharRNN(nn.Module):\n",
        "  def __init__(self, input_size, hidden_size, output_size):\n",
        "    super(CharRNN, self).__init__()\n",
        "\n",
        "    self.rnn = nn.RNN(input_size, hidden_size)\n",
        "    self.h2o = nn.Linear(hidden_size, output_size)\n",
        "    self.softmax = nn.LogSoftmax(dim=1)\n",
        "\n",
        "  def forward(self, line_tensor):\n",
        "    rnn_out, hidden = self.rnn(line_tensor)\n",
        "    output = self.h2o(hidden[0])\n",
        "    output = self.softmax(output)\n",
        "    return output\n"
      ],
      "metadata": {
        "id": "oz0GxlYXG2x9"
      },
      "execution_count": null,
      "outputs": []
    },
    {
      "cell_type": "code",
      "source": [
        "n_hidden = 128\n",
        "rnn = CharRNN(n_letters, n_hidden, len(alldata.labels_unique))\n",
        "print(rnn)"
      ],
      "metadata": {
        "colab": {
          "base_uri": "https://localhost:8080/"
        },
        "id": "xB5Z9NuuPn46",
        "outputId": "c40b6bba-dca6-45b1-90be-bf23a77a4e6b"
      },
      "execution_count": null,
      "outputs": [
        {
          "output_type": "stream",
          "name": "stdout",
          "text": [
            "CharRNN(\n",
            "  (rnn): RNN(58, 128)\n",
            "  (h2o): Linear(in_features=128, out_features=18, bias=True)\n",
            "  (softmax): LogSoftmax(dim=1)\n",
            ")\n"
          ]
        }
      ]
    },
    {
      "cell_type": "code",
      "source": [
        "def label_from_output(output, output_labels):\n",
        "    top_n, top_i = output.topk(1)\n",
        "    label_i = top_i[0].item()\n",
        "    return output_labels[label_i], label_i\n",
        "\n",
        "input_example = lineToTensor('Albert')\n",
        "output = rnn(input_example) #this is equivalent to ``output = rnn.forward(input)``\n",
        "print(output)\n",
        "print(label_from_output(output, alldata.labels_unique))"
      ],
      "metadata": {
        "colab": {
          "base_uri": "https://localhost:8080/"
        },
        "id": "scgfvk_hQg_t",
        "outputId": "87238a7a-b1c6-418e-9250-3717da48fefe"
      },
      "execution_count": null,
      "outputs": [
        {
          "output_type": "stream",
          "name": "stdout",
          "text": [
            "tensor([[-2.8824, -2.8596, -2.9310, -2.7350, -2.9266, -3.0337, -2.8951, -2.8145,\n",
            "         -2.8973, -2.8312, -2.7965, -2.9699, -2.8725, -2.8660, -3.0098, -2.9881,\n",
            "         -2.9370, -2.8322]], grad_fn=<LogSoftmaxBackward0>)\n",
            "('Spanish', 3)\n"
          ]
        }
      ]
    },
    {
      "cell_type": "code",
      "source": [
        "# train\n",
        "\n",
        "import random\n",
        "import numpy as np\n",
        "\n",
        "def train(rnn, training_data, n_epoch, n_batch_size = 64, report_every = 50, learning_rate = 0.2, criterion = nn.NLLLoss()):\n",
        "  current_loss = 0\n",
        "  all_losses = []\n",
        "\n",
        "  rnn.train()\n",
        "  optimizer = torch.optim.SGD(rnn.parameters(), lr = learning_rate)\n",
        "\n",
        "\n",
        "  for iter in range(1, n_epoch + 1):\n",
        "    rnn.zero_grad()\n",
        "\n",
        "    batches = list(range(len(training_data)))\n",
        "    random.shuffle(batches)\n",
        "    batches = np.array_split(batches, len(batches)//n_batch_size)\n",
        "\n",
        "    for idx, batch in enumerate(batches):\n",
        "      batch_loss = 0\n",
        "      for i in batch:\n",
        "        (label_tensor, text_tensor, label, text) = training_data[i]\n",
        "        output = rnn.forward(text_tensor)\n",
        "        loss = criterion(output, label_tensor)\n",
        "        batch_loss += loss\n",
        "\n",
        "      batch_loss.backward()\n",
        "      nn.utils.clip_grad_norm_(rnn.parameters(), 3)\n",
        "      optimizer.step()\n",
        "      optimizer.zero_grad()\n",
        "\n",
        "      # average loss per example in batch\n",
        "      current_loss += batch_loss.item()/len(batch)\n",
        "\n",
        "    # average loss per batch\n",
        "    all_losses.append(current_loss/ len(batches))\n",
        "\n",
        "    if iter % report_every == 0:\n",
        "      print(f\"{iter} ({iter / n_epoch:.0%}): \\t average batch loss = {all_losses[-1]}\")\n",
        "    current_loss = 0\n",
        "\n",
        "  return all_losses"
      ],
      "metadata": {
        "id": "IRFVgo9yRQal"
      },
      "execution_count": null,
      "outputs": []
    },
    {
      "cell_type": "code",
      "source": [
        "all_losses = train(rnn, train_set, n_epoch=30, learning_rate=0.15, report_every=5)\n"
      ],
      "metadata": {
        "colab": {
          "base_uri": "https://localhost:8080/"
        },
        "id": "sN5gBzdUYqtq",
        "outputId": "d71b690a-924f-40ae-cbd1-76464eec9765"
      },
      "execution_count": null,
      "outputs": [
        {
          "output_type": "stream",
          "name": "stdout",
          "text": [
            "5 (17%): \t average batch loss = 0.8797391582735017\n",
            "10 (33%): \t average batch loss = 0.6948055596245445\n",
            "15 (50%): \t average batch loss = 0.5820632602780317\n",
            "20 (67%): \t average batch loss = 0.49811922203449926\n",
            "25 (83%): \t average batch loss = 0.4345291968506151\n",
            "30 (100%): \t average batch loss = 0.39947933712968803\n"
          ]
        }
      ]
    },
    {
      "cell_type": "code",
      "source": [
        "import matplotlib.pyplot as plt\n",
        "import matplotlib.ticker as ticker\n",
        "\n",
        "plt.figure()\n",
        "plt.plot(all_losses)\n",
        "plt.show()"
      ],
      "metadata": {
        "colab": {
          "base_uri": "https://localhost:8080/",
          "height": 430
        },
        "id": "ZaacM2sFZEgh",
        "outputId": "2df56e37-9e8c-448c-8fb6-facc5b795861"
      },
      "execution_count": null,
      "outputs": [
        {
          "output_type": "display_data",
          "data": {
            "text/plain": [
              "<Figure size 640x480 with 1 Axes>"
            ],
            "image/png": "[encoded data removed]"
          },
          "metadata": {}
        }
      ]
    },
    {
      "cell_type": "code",
      "source": [
        "def evaluate(rnn, testing_data, classes):\n",
        "    confusion = torch.zeros(len(classes), len(classes))\n",
        "\n",
        "    rnn.eval() #set to eval mode\n",
        "    with torch.no_grad(): # do not record the gradients during eval phase\n",
        "        for i in range(len(testing_data)):\n",
        "            (label_tensor, text_tensor, label, text) = testing_data[i]\n",
        "            output = rnn(text_tensor)\n",
        "            guess, guess_i = label_from_output(output, classes)\n",
        "            label_i = classes.index(label)\n",
        "            confusion[label_i][guess_i] += 1\n",
        "\n",
        "    # Normalize by dividing every row by its sum\n",
        "    for i in range(len(classes)):\n",
        "        denom = confusion[i].sum()\n",
        "        if denom > 0:\n",
        "            confusion[i] = confusion[i] / denom\n",
        "\n",
        "    # Set up plot\n",
        "    fig = plt.figure()\n",
        "    ax = fig.add_subplot(111)\n",
        "    cax = ax.matshow(confusion.cpu().numpy()) #numpy uses cpu here so we need to use a cpu version\n",
        "    fig.colorbar(cax)\n",
        "\n",
        "    # Set up axes\n",
        "    ax.set_xticks(np.arange(len(classes)), labels=classes, rotation=90)\n",
        "    ax.set_yticks(np.arange(len(classes)), labels=classes)\n",
        "\n",
        "    # Force label at every tick\n",
        "    ax.xaxis.set_major_locator(ticker.MultipleLocator(1))\n",
        "    ax.yaxis.set_major_locator(ticker.MultipleLocator(1))\n",
        "\n",
        "    # sphinx_gallery_thumbnail_number = 2\n",
        "    plt.show()\n",
        "\n",
        "\n",
        "\n",
        "evaluate(rnn, test_set, classes=alldata.labels_unique)"
      ],
      "metadata": {
        "colab": {
          "base_uri": "https://localhost:8080/",
          "height": 506
        },
        "id": "ePwnxDXUaQxu",
        "outputId": "0dc4659f-42cf-49bf-faef-38dbd0d42b2e"
      },
      "execution_count": null,
      "outputs": [
        {
          "output_type": "display_data",
          "data": {
            "text/plain": [
              "<Figure size 640x480 with 2 Axes>"
            ],
            "image/png": "[encoded data removed]"
          },
          "metadata": {}
        }
      ]
    },
    {
      "cell_type": "code",
      "source": [
        "def predict(rnn, input_line, classes):\n",
        "    print(f\"\\n> {input_line}\")\n",
        "\n",
        "    rnn.eval()\n",
        "    with torch.no_grad():\n",
        "        line_tensor = lineToTensor(input_line)\n",
        "        output = rnn(line_tensor)\n",
        "        guess, guess_i = label_from_output(output, classes)\n",
        "        print(guess)\n",
        "\n",
        "\n",
        "while True:\n",
        "    sentence = input(\"Input:\")\n",
        "    if sentence == \"quit\":\n",
        "        break\n",
        "\n",
        "    predict(rnn, sentence, classes=alldata.labels_unique)\n"
      ],
      "metadata": {
        "colab": {
          "base_uri": "https://localhost:8080/"
        },
        "id": "SEZiyq5TbM1q",
        "outputId": "622e765f-1ea0-4b12-e754-fc647fdbc892"
      },
      "execution_count": null,
      "outputs": [
        {
          "name": "stdout",
          "output_type": "stream",
          "text": [
            "Input:Althuis\n",
            "\n",
            "> Althuis\n",
            "Greek\n",
            "Input:Amstel\n",
            "\n",
            "> Amstel\n",
            "Dutch\n",
            "Input:Asghar\n",
            "\n",
            "> Asghar\n",
            "Arabic\n",
            "Input:Maalouf\n",
            "\n",
            "> Maalouf\n",
            "Arabic\n",
            "Input:Abaleshev\n",
            "\n",
            "> Abaleshev\n",
            "Russian\n",
            "Input:Albuquerque\n",
            "\n",
            "> Albuquerque\n",
            "Italian\n",
            "Input:Albuquerque\n",
            "\n",
            "> Albuquerque\n",
            "Italian\n",
            "Input:Alfaro\n",
            "\n",
            "> Alfaro\n",
            "Italian\n",
            "Input:Crespo\n",
            "\n",
            "> Crespo\n",
            "Italian\n",
            "Input:Esparza\n",
            "\n",
            "> Esparza\n",
            "Spanish\n",
            "Input:quit\n"
          ]
        }
      ]
    },
    {
      "cell_type": "code",
      "source": [],
      "metadata": {
        "id": "tAbnFSnudMv-"
      },
      "execution_count": null,
      "outputs": []
    }
  ]
}